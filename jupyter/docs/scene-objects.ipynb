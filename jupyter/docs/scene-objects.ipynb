{
 "cells": [
  {
   "cell_type": "markdown",
   "metadata": {},
   "source": [
    "This notebook contains code to test and generate images for the documentation page."
   ]
  },
  {
   "cell_type": "code",
   "execution_count": null,
   "metadata": {},
   "outputs": [],
   "source": [
    "from IPython.display import SVG, Image, display\n",
    "from dataclasses import dataclass\n",
    "import smashcima as sc\n",
    "import numpy as np\n",
    "import cv2"
   ]
  },
  {
   "cell_type": "code",
   "execution_count": null,
   "metadata": {},
   "outputs": [],
   "source": [
    "print(sc.Pitch.parse(\"4\", \"G\"))\n",
    "\n",
    "print(sc.TypeDuration.quarter)"
   ]
  },
  {
   "cell_type": "code",
   "execution_count": null,
   "metadata": {},
   "outputs": [],
   "source": [
    "@dataclass\n",
    "class Note(sc.SceneObject):\n",
    "    pitch: sc.Pitch\n",
    "    \"\"\"Scientific pitch notation (C4, G2, ...)\"\"\"\n",
    "    \n",
    "    type_duration: sc.TypeDuration\n",
    "    \"\"\"Note-type duration value (whole, half, quarter)\"\"\"\n",
    "\n",
    "@dataclass\n",
    "class Notehead(sc.SceneObject):\n",
    "    note: Note\n",
    "    \"\"\"The semantic note that this visual notehead represents\"\"\"\n",
    "\n",
    "    image: np.ndarray\n",
    "    \"\"\"The synthesized image of this notehead\"\"\"\n",
    "\n",
    "my_note = Note(\n",
    "    pitch=sc.Pitch.parse(\"4\", \"C\"),\n",
    "    type_duration=sc.TypeDuration.quarter\n",
    ")\n",
    "my_notehead = Notehead(\n",
    "    note=my_note,\n",
    "    image=np.zeros(shape=(20, 20))\n",
    ")\n",
    "\n",
    "print(my_note)\n",
    "print(Notehead.of(my_note, lambda n: n.note))"
   ]
  },
  {
   "cell_type": "code",
   "execution_count": null,
   "metadata": {},
   "outputs": [],
   "source": [
    "from smashcima.jupyter.display_scene_graph import display_scene_object_graph\n",
    "\n",
    "@dataclass\n",
    "class NoteList(sc.SceneObject):\n",
    "    notes: list[Note]\n",
    "\n",
    "notes = NoteList(\n",
    "    notes=[\n",
    "        Note(\n",
    "            pitch=sc.Pitch.parse(octave=str(i), step=\"C\"),\n",
    "            type_duration=sc.TypeDuration.quarter\n",
    "        )\n",
    "        for i in range(1, 5)\n",
    "    ]\n",
    ")\n",
    "\n",
    "for note in notes.notes:\n",
    "    Notehead(\n",
    "        note=note,\n",
    "        image=None\n",
    "    )\n",
    "\n",
    "display_scene_object_graph(notes)"
   ]
  },
  {
   "cell_type": "code",
   "execution_count": null,
   "metadata": {},
   "outputs": [],
   "source": [
    "@dataclass\n",
    "class NoteColor(sc.SceneObject):\n",
    "    color: str\n",
    "    \"\"\"The color of the notehead\"\"\"\n",
    "\n",
    "    note: Note\n",
    "    \"\"\"The note for which we define the color\"\"\"\n",
    "\n",
    "my_note = Note(pitch=None, type_duration=None)\n",
    "NoteColor(color=\"\", note=my_note)\n",
    "\n",
    "display_scene_object_graph(my_note, discard_object_inlinks=False)"
   ]
  }
 ],
 "metadata": {
  "kernelspec": {
   "display_name": ".venv",
   "language": "python",
   "name": "python3"
  },
  "language_info": {
   "codemirror_mode": {
    "name": "ipython",
    "version": 3
   },
   "file_extension": ".py",
   "mimetype": "text/x-python",
   "name": "python",
   "nbconvert_exporter": "python",
   "pygments_lexer": "ipython3",
   "version": "3.10.12"
  }
 },
 "nbformat": 4,
 "nbformat_minor": 2
}
