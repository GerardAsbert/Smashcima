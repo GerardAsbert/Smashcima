{
 "cells": [
  {
   "cell_type": "markdown",
   "metadata": {},
   "source": [
    "This notebook contains code to test and generate images for the tutorial."
   ]
  },
  {
   "cell_type": "code",
   "execution_count": null,
   "metadata": {},
   "outputs": [],
   "source": [
    "from IPython.display import Image, display"
   ]
  },
  {
   "cell_type": "code",
   "execution_count": null,
   "metadata": {},
   "outputs": [],
   "source": [
    "import cv2\n",
    "import smashcima as sc\n",
    "\n",
    "model = sc.orchestration.BaseHandwrittenModel()\n",
    "scene = model(\"../../docs/assets/tutorial-1/lc5003150.musicxml\")\n",
    "\n",
    "for i, page in enumerate(scene.pages):\n",
    "    bitmap = scene.render(page)\n",
    "    # cv2.imwrite(f\"page_{i}.png\", bitmap)\n",
    "    display(Image(\n",
    "        data=cv2.imencode(\".png\", bitmap)[1],\n",
    "        width=900\n",
    "    ))"
   ]
  },
  {
   "cell_type": "code",
   "execution_count": null,
   "metadata": {},
   "outputs": [],
   "source": [
    "import smashcima as sc\n",
    "print(sc.config.MC_ASSETS_CACHE)"
   ]
  },
  {
   "cell_type": "code",
   "execution_count": null,
   "metadata": {},
   "outputs": [],
   "source": [
    "from IPython.display import SVG, display\n",
    "\n",
    "exporter = sc.exporting.SvgExporter(\n",
    "    render_labeled_regions=True\n",
    ")\n",
    "svg = exporter.export_string(scene.pages[0].view_box)\n",
    "display(SVG(svg))"
   ]
  }
 ],
 "metadata": {
  "kernelspec": {
   "display_name": ".venv",
   "language": "python",
   "name": "python3"
  },
  "language_info": {
   "codemirror_mode": {
    "name": "ipython",
    "version": 3
   },
   "file_extension": ".py",
   "mimetype": "text/x-python",
   "name": "python",
   "nbconvert_exporter": "python",
   "pygments_lexer": "ipython3",
   "version": "3.10.12"
  }
 },
 "nbformat": 4,
 "nbformat_minor": 2
}
