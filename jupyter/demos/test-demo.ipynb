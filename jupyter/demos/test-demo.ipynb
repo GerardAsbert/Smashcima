{
 "cells": [
  {
   "cell_type": "markdown",
   "metadata": {},
   "source": [
    "# Mashcima 2 *test demo*\n",
    "\n",
    "This page is what a demo for the Mashcima 2 project could look like.\n",
    "\n",
    "Mashcima consists of many modules at various levels of abstractions. The highest level of abstraction is the `mashcima2.orchestration` module, which contains configured, ready-to-use synthesis pipelines (called `Model`s).\n",
    "\n",
    "A model is a pre-configured and pre-connected set of synthesizers from the `mashcima2.synthesis` module, which create a `Scene` instance (`mashcima2.scene.Scene`) containing the synthetic music page. The scene is then rasterized by a `BitmapRenderer` to produce a PNG image.\n",
    "\n",
    "You can call the Mashcima 1 model from 2021 like this:\n",
    "\n",
    "```py\n",
    "import cv2\n",
    "from mashcima2.orchestration.Mayer2021Model import Mayer2021Model\n",
    "\n",
    "# create the model\n",
    "model = Mayer2021Model()\n",
    "\n",
    "# give it the input MusicXML and out goes the OpenCV image\n",
    "bitmap = model(\"my-music.musicxml\")\n",
    "\n",
    "# save the synthetic image\n",
    "cv2.imwrite(\"my-music.png\", bitmap)\n",
    "```\n",
    "\n",
    "Here is an example of what the model produces:"
   ]
  },
  {
   "cell_type": "code",
   "execution_count": null,
   "metadata": {},
   "outputs": [],
   "source": [
    "%env MC_ASSETS_CACHE=../../mashcima_assets\n",
    "\n",
    "import cv2\n",
    "from IPython.display import Image\n",
    "from mashcima2.orchestration.Mayer2021Model import Mayer2021Model\n",
    "\n",
    "model = Mayer2021Model()\n",
    "\n",
    "bitmap = model(\"../../testing/input.musicxml\")\n",
    "\n",
    "Image(data=cv2.imencode(\".png\", bitmap)[1], width=300)"
   ]
  },
  {
   "cell_type": "markdown",
   "metadata": {},
   "source": [
    "## The scene\n",
    "\n",
    "Getting the synthetic image is only the tip of the iceberg. After the model is run, its `model.scene` property is populated with the scene object that has been created by the synthesizer.\n",
    "\n",
    "It contains the semantic information extracted from the given MusicXML file (blue). It contains the visual information built from that semantics (green). And it contains the low-level visual primitives used to build the final bitmap (gray).\n",
    "\n",
    "All of these instances live in the `mashcima2.scene` module.\n",
    "\n",
    "Explore the visualization of the scene graph:"
   ]
  },
  {
   "cell_type": "code",
   "execution_count": null,
   "metadata": {},
   "outputs": [],
   "source": [
    "from mashcima2.jupyter.display_scene_graph import display_scene_graph\n",
    "\n",
    "display_scene_graph(model.scene)"
   ]
  }
 ],
 "metadata": {
  "kernelspec": {
   "display_name": ".venv",
   "language": "python",
   "name": "python3"
  },
  "language_info": {
   "codemirror_mode": {
    "name": "ipython",
    "version": 3
   },
   "file_extension": ".py",
   "mimetype": "text/x-python",
   "name": "python",
   "nbconvert_exporter": "python",
   "pygments_lexer": "ipython3",
   "version": "3.10.12"
  }
 },
 "nbformat": 4,
 "nbformat_minor": 2
}
