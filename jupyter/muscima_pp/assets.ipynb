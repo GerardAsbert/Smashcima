{
 "cells": [
  {
   "cell_type": "code",
   "execution_count": null,
   "metadata": {},
   "outputs": [],
   "source": [
    "%load_ext autoreload\n",
    "%autoreload 2\n",
    "%env MC_ASSETS_CACHE=../../mashcima_assets"
   ]
  },
  {
   "cell_type": "code",
   "execution_count": null,
   "metadata": {},
   "outputs": [],
   "source": [
    "from mashcima2.assets.AssetRepository import AssetRepository\n",
    "from mashcima2.assets.datasets.MuscimaPP import MuscimaPP\n",
    "from mashcima2.assets.glyphs.muscima_pp.MuscimaPPGlyphs import MuscimaPPGlyphs\n",
    "\n",
    "repo = AssetRepository.default()\n",
    "\n",
    "bundle = repo.resolve_bundle(MuscimaPPGlyphs, force_install=True)\n",
    "\n",
    "repository = bundle.load_symbol_repository()\n",
    "# repository = bundle.repository\n",
    "\n",
    "glyph = repository.whole_notes[0]\n",
    "\n",
    "from mashcima2.jupyter.display_scene_graph import display_scene_graph\n",
    "from mashcima2.scene.Scene import Scene\n",
    "scene = Scene()\n",
    "scene.add(glyph)\n",
    "display_scene_graph(scene)"
   ]
  }
 ],
 "metadata": {
  "kernelspec": {
   "display_name": ".venv",
   "language": "python",
   "name": "python3"
  },
  "language_info": {
   "codemirror_mode": {
    "name": "ipython",
    "version": 3
   },
   "file_extension": ".py",
   "mimetype": "text/x-python",
   "name": "python",
   "nbconvert_exporter": "python",
   "pygments_lexer": "ipython3",
   "version": "3.10.12"
  }
 },
 "nbformat": 4,
 "nbformat_minor": 2
}
