{
 "cells": [
  {
   "cell_type": "code",
   "execution_count": null,
   "metadata": {},
   "outputs": [],
   "source": [
    "%load_ext autoreload\n",
    "%autoreload 2\n",
    "%env MC_ASSETS_CACHE=../../smashcima_assets"
   ]
  },
  {
   "cell_type": "code",
   "execution_count": null,
   "metadata": {},
   "outputs": [],
   "source": [
    "import cv2\n",
    "from IPython.display import Image, display\n",
    "from smashcima.orchestration.BaseHandwrittenModel import BaseHandwrittenModel\n",
    "\n",
    "model = BaseHandwrittenModel()\n",
    "\n",
    "# model(\"../../testing/input.musicxml\")\n",
    "scene = model(\"../../testing/lc6247269.musicxml\")\n",
    "\n",
    "print(\"Writer:\", scene.mpp_writer)\n",
    "print(\"Background:\", scene.mzk_background_patch.mzk_uuid)\n",
    "for page in scene.pages:\n",
    "    display(Image(\n",
    "        data=cv2.imencode(\".png\", scene.render(page))[1],\n",
    "        width=900\n",
    "    ))"
   ]
  }
 ],
 "metadata": {
  "kernelspec": {
   "display_name": ".venv",
   "language": "python",
   "name": "python3"
  },
  "language_info": {
   "codemirror_mode": {
    "name": "ipython",
    "version": 3
   },
   "file_extension": ".py",
   "mimetype": "text/x-python",
   "name": "python",
   "nbconvert_exporter": "python",
   "pygments_lexer": "ipython3",
   "version": "3.10.12"
  }
 },
 "nbformat": 4,
 "nbformat_minor": 2
}
