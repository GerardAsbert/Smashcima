{
 "cells": [
  {
   "cell_type": "code",
   "execution_count": null,
   "metadata": {},
   "outputs": [],
   "source": [
    "%load_ext autoreload\n",
    "%autoreload 2\n",
    "%env MC_ASSETS_CACHE=../../../mashcima_assets\n",
    "\n",
    "%matplotlib ipympl\n",
    "import matplotlib.pyplot as plt\n",
    "import cv2"
   ]
  },
  {
   "cell_type": "code",
   "execution_count": null,
   "metadata": {},
   "outputs": [],
   "source": [
    "from mashcima2.jupyter.display_scene_graph import display_scene_object_graph\n",
    "from mashcima2.assets.AssetRepository import AssetRepository\n",
    "from mashcima2.synthesis.glyph.MuscimaPPGlyphSynthesizer \\\n",
    "    import MuscimaPPGlyphSynthesizer\n",
    "from mashcima2.synthesis.glyph.SmuflGlyphClass import SmuflGlyphClass\n",
    "import random\n",
    "from mashcima2.scene.visual.Notehead import Notehead\n",
    "\n",
    "glyph_synthesizer = MuscimaPPGlyphSynthesizer(\n",
    "    assets=AssetRepository.default(),\n",
    "    rng=random.Random()\n",
    ")\n",
    "glyph = glyph_synthesizer.synthesize_glyph(\n",
    "    Notehead,\n",
    "    SmuflGlyphClass.noteheadBlack\n",
    ")\n",
    "\n",
    "display_scene_object_graph(glyph)\n",
    "\n",
    "# TODO: display_glyphs([...]) create matplotlib subfigures in millimeters\n",
    "# and render sprites onto it; extract an iterate_sprites function\n",
    "\n",
    "plt.imshow(glyph.sprites[0].bitmap)\n",
    "plt.show()"
   ]
  }
 ],
 "metadata": {
  "kernelspec": {
   "display_name": ".venv",
   "language": "python",
   "name": "python3"
  },
  "language_info": {
   "codemirror_mode": {
    "name": "ipython",
    "version": 3
   },
   "file_extension": ".py",
   "mimetype": "text/x-python",
   "name": "python",
   "nbconvert_exporter": "python",
   "pygments_lexer": "ipython3",
   "version": "3.10.12"
  }
 },
 "nbformat": 4,
 "nbformat_minor": 2
}
