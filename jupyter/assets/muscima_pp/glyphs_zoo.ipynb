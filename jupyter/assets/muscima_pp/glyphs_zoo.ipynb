{
 "cells": [
  {
   "cell_type": "markdown",
   "metadata": {},
   "source": [
    "# MUSCIMA++ Glyph ZOO\n",
    "\n",
    "Here are listed all the glyphs extracted from the MUSCIMA++ dataset. This file acts as a visual test for the extraction process and a showcase of the extracted data.\n",
    "\n",
    "Re-install the bundle by running:\n",
    "\n",
    "```bash\n",
    ".venv/bin/python3 -m mashcima2.assets.glyphs.muscima_pp.MuscimaPPGlyphs\n",
    "```"
   ]
  },
  {
   "cell_type": "code",
   "execution_count": null,
   "metadata": {},
   "outputs": [],
   "source": [
    "%load_ext autoreload\n",
    "%autoreload 2\n",
    "%env MC_ASSETS_CACHE=../../../mashcima_assets\n",
    "\n",
    "%matplotlib ipympl\n",
    "import matplotlib.pyplot as plt\n",
    "import cv2\n",
    "\n",
    "from mashcima2.assets.AssetRepository import AssetRepository\n",
    "from mashcima2.assets.datasets.MuscimaPP import MuscimaPP\n",
    "from mashcima2.assets.glyphs.muscima_pp.MuscimaPPGlyphs import MuscimaPPGlyphs\n",
    "\n",
    "assets = AssetRepository.default()\n",
    "bundle = assets.resolve_bundle(MuscimaPPGlyphs)\n",
    "symbols = bundle.load_symbol_repository()"
   ]
  },
  {
   "cell_type": "markdown",
   "metadata": {},
   "source": [
    "## Black noteheads (`smufl::noteheadBlack`)"
   ]
  },
  {
   "cell_type": "code",
   "execution_count": null,
   "metadata": {},
   "outputs": [],
   "source": [
    "glyph = symbols.black_noteheads[0]\n",
    "\n",
    "plt.imshow(glyph.sprites[0].bitmap) # TODO: BGRA to RGBA \n",
    "plt.show()"
   ]
  }
 ],
 "metadata": {
  "kernelspec": {
   "display_name": ".venv",
   "language": "python",
   "name": "python3"
  },
  "language_info": {
   "codemirror_mode": {
    "name": "ipython",
    "version": 3
   },
   "file_extension": ".py",
   "mimetype": "text/x-python",
   "name": "python",
   "nbconvert_exporter": "python",
   "pygments_lexer": "ipython3",
   "version": "3.10.12"
  }
 },
 "nbformat": 4,
 "nbformat_minor": 2
}
