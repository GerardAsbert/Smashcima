{
 "cells": [
  {
   "cell_type": "code",
   "execution_count": null,
   "metadata": {},
   "outputs": [],
   "source": [
    "%load_ext autoreload\n",
    "%autoreload 2\n",
    "%env MC_ASSETS_CACHE=../../../smashcima_assets\n",
    "\n",
    "%matplotlib widget\n",
    "\n",
    "from smashcima.assets.AssetRepository import AssetRepository\n",
    "from smashcima.assets.glyphs.muscima_pp.MppGlyphClass import MppGlyphClass\n",
    "from smashcima.assets.glyphs.muscima_pp.MuscimaPPGlyphs import MuscimaPPGlyphs\n",
    "from smashcima.jupyter.display_glyphs import display_glyphs\n",
    "\n",
    "assets = AssetRepository.default()\n",
    "bundle = assets.resolve_bundle(MuscimaPPGlyphs)\n",
    "symbols = bundle.load_symbol_repository()"
   ]
  },
  {
   "cell_type": "markdown",
   "metadata": {},
   "source": [
    "# MUSCIMA++ Glyph ZOO\n",
    "\n",
    "Here are listed all the glyphs extracted from the MUSCIMA++ dataset. This file acts as a visual test for the extraction process and a showcase of the extracted data.\n",
    "\n",
    "Re-install the bundle by running:\n",
    "\n",
    "```bash\n",
    ".venv/bin/python3 -m smashcima.assets.glyphs.muscima_pp.MuscimaPPGlyphs\n",
    "```"
   ]
  },
  {
   "cell_type": "markdown",
   "metadata": {},
   "source": [
    "## Full noteheads (`muscima_pp::notehead-full`)\n",
    "\n",
    "Can also be synthesized via `smufl::noteheadBlack`."
   ]
  },
  {
   "cell_type": "code",
   "execution_count": null,
   "metadata": {},
   "outputs": [],
   "source": [
    "display_glyphs(\n",
    "    rows=4,\n",
    "    columns=5,\n",
    "    glyphs=symbols.glyphs_by_class[MppGlyphClass.noteheadFull.value],\n",
    "    start_from=0\n",
    ")"
   ]
  },
  {
   "cell_type": "markdown",
   "metadata": {},
   "source": [
    "## Empty noteheads (`muscima_pp::notehead-empty`)\n",
    "\n",
    "Can also be synthesized via `smufl::noteheadWhole` and `smufl::noteheadHalf`."
   ]
  },
  {
   "cell_type": "code",
   "execution_count": null,
   "metadata": {},
   "outputs": [],
   "source": [
    "display_glyphs(\n",
    "    rows=4,\n",
    "    columns=5,\n",
    "    glyphs=symbols.glyphs_by_class[MppGlyphClass.noteheadEmpty.value],\n",
    "    start_from=0\n",
    ")"
   ]
  },
  {
   "cell_type": "markdown",
   "metadata": {},
   "source": [
    "## Barlines (`muscima_pp::thinBarline`)\n",
    "\n",
    "Can also be synthesized via `smufl::barlineSingle`."
   ]
  },
  {
   "cell_type": "code",
   "execution_count": null,
   "metadata": {},
   "outputs": [],
   "source": [
    "display_glyphs(\n",
    "    rows=2,\n",
    "    columns=10,\n",
    "    glyphs=symbols.glyphs_by_class[MppGlyphClass.thinBarline.value],\n",
    "    start_from=0\n",
    ")"
   ]
  },
  {
   "cell_type": "markdown",
   "metadata": {},
   "source": [
    "## G clefs (`muscima_pp::g-clef`)\n",
    "\n",
    "Can also be synthesized via `smufl::gClef` and `smufl::gClefSmall`."
   ]
  },
  {
   "cell_type": "code",
   "execution_count": null,
   "metadata": {},
   "outputs": [],
   "source": [
    "display_glyphs(\n",
    "    rows=4,\n",
    "    columns=5,\n",
    "    glyphs=symbols.glyphs_by_class[MppGlyphClass.gClef.value],\n",
    "    start_from=0\n",
    ")"
   ]
  },
  {
   "cell_type": "markdown",
   "metadata": {},
   "source": [
    "## F clefs (`muscima_pp::f-clef`)\n",
    "\n",
    "Can also be synthesized via `smufl::fClef` and `smufl::fClefSmall`."
   ]
  },
  {
   "cell_type": "code",
   "execution_count": null,
   "metadata": {},
   "outputs": [],
   "source": [
    "display_glyphs(\n",
    "    rows=4,\n",
    "    columns=5,\n",
    "    glyphs=symbols.glyphs_by_class[MppGlyphClass.fClef.value],\n",
    "    start_from=0\n",
    ")"
   ]
  },
  {
   "cell_type": "markdown",
   "metadata": {},
   "source": [
    "## C clefs (`muscima_pp::c-clef`)\n",
    "\n",
    "Can also be synthesized via `smufl::cClef` and `smufl::cClefSmall`."
   ]
  },
  {
   "cell_type": "code",
   "execution_count": null,
   "metadata": {},
   "outputs": [],
   "source": [
    "display_glyphs(\n",
    "    rows=4,\n",
    "    columns=5,\n",
    "    glyphs=symbols.glyphs_by_class[MppGlyphClass.cClef.value],\n",
    "    start_from=0\n",
    ")"
   ]
  },
  {
   "cell_type": "markdown",
   "metadata": {},
   "source": [
    "## Whole rests (`muscima_pp::whole_rest`)\n",
    "\n",
    "Can also be synthesized via `smufl::restWhole`."
   ]
  },
  {
   "cell_type": "code",
   "execution_count": null,
   "metadata": {},
   "outputs": [],
   "source": [
    "display_glyphs(\n",
    "    rows=4,\n",
    "    columns=5,\n",
    "    glyphs=symbols.glyphs_by_class[MppGlyphClass.wholeRest.value],\n",
    "    start_from=0\n",
    ")"
   ]
  },
  {
   "cell_type": "markdown",
   "metadata": {},
   "source": [
    "## Half rests (`muscima_pp::half_rest`)\n",
    "\n",
    "Can also be synthesized via `smufl::restHalf`."
   ]
  },
  {
   "cell_type": "code",
   "execution_count": null,
   "metadata": {},
   "outputs": [],
   "source": [
    "display_glyphs(\n",
    "    rows=4,\n",
    "    columns=5,\n",
    "    glyphs=symbols.glyphs_by_class[MppGlyphClass.halfRest.value],\n",
    "    start_from=0\n",
    ")"
   ]
  },
  {
   "cell_type": "markdown",
   "metadata": {},
   "source": [
    "## Quarter rests (`muscima_pp::quarter_rest`)\n",
    "\n",
    "Can also be synthesized via `smufl::restQuarter`."
   ]
  },
  {
   "cell_type": "code",
   "execution_count": null,
   "metadata": {},
   "outputs": [],
   "source": [
    "display_glyphs(\n",
    "    rows=4,\n",
    "    columns=5,\n",
    "    glyphs=symbols.glyphs_by_class[MppGlyphClass.quarterRest.value],\n",
    "    start_from=0\n",
    ")"
   ]
  },
  {
   "cell_type": "markdown",
   "metadata": {},
   "source": [
    "## Eighth rests (`muscima_pp::8th_rest`)\n",
    "\n",
    "Can also be synthesized via `smufl::rest8th`."
   ]
  },
  {
   "cell_type": "code",
   "execution_count": null,
   "metadata": {},
   "outputs": [],
   "source": [
    "display_glyphs(\n",
    "    rows=4,\n",
    "    columns=5,\n",
    "    glyphs=symbols.glyphs_by_class[MppGlyphClass.eighthRest.value],\n",
    "    start_from=0\n",
    ")"
   ]
  },
  {
   "cell_type": "markdown",
   "metadata": {},
   "source": [
    "## Sixteenth rests (`muscima_pp::16th_rest`)\n",
    "\n",
    "Can also be synthesized via `smufl::rest16th`."
   ]
  },
  {
   "cell_type": "code",
   "execution_count": null,
   "metadata": {},
   "outputs": [],
   "source": [
    "display_glyphs(\n",
    "    rows=4,\n",
    "    columns=5,\n",
    "    glyphs=symbols.glyphs_by_class[MppGlyphClass.sixteenthRest.value],\n",
    "    start_from=0\n",
    ")"
   ]
  }
 ],
 "metadata": {
  "kernelspec": {
   "display_name": ".venv",
   "language": "python",
   "name": "python3"
  },
  "language_info": {
   "codemirror_mode": {
    "name": "ipython",
    "version": 3
   },
   "file_extension": ".py",
   "mimetype": "text/x-python",
   "name": "python",
   "nbconvert_exporter": "python",
   "pygments_lexer": "ipython3",
   "version": "3.10.12"
  }
 },
 "nbformat": 4,
 "nbformat_minor": 2
}
