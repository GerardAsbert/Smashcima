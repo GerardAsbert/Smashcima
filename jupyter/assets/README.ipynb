{
 "cells": [
  {
   "cell_type": "markdown",
   "metadata": {},
   "source": [
    "# The assets layer\n",
    "\n",
    "When *synthesizers* create a *scene*, they usually don't do so out of thin air. They depend on some external static data. This might be datasets of symbol images or pre-trained generative models.\n",
    "\n",
    "The *assets layer* of Mashcima is responsible for the download and installation of these external resources. It lives in the `mashcima2.assets` module."
   ]
  },
  {
   "cell_type": "markdown",
   "metadata": {},
   "source": [
    "## Basic usage\n",
    "\n",
    "Let's say we want to use the [MUSCIMA++](https://ufal.mff.cuni.cz/muscima) dataset during synthesis.\n",
    "\n",
    "First, we need to get a handle on an `AssetRepository`. It represents a local folder, where the assets are downloaded. You can get the default one like this:\n",
    "\n",
    "```python\n",
    "from mashcima2.assets.AssetRepository import AssetRepository\n",
    "assets = AssetRepository.default()\n",
    "```\n",
    "\n",
    "The asset repository manages so-called asset bundles, where an asset bundle is some collection of external resources that are managed as a single object (e.g. a dataset).\n",
    "\n",
    "You can then use this repository to resolve the `MuscimaPP` dataset asset bundle:\n",
    "\n",
    "```python\n",
    "from mashcima2.assets.datasets.MuscimaPP import MuscimaPP\n",
    "muscima_pp = assets.resolve_bundle(MuscimaPP)\n",
    "```\n",
    "\n",
    "The `resolve_bundle` method downloads the dataset from the internet if necessary and returns an instance of the `MuscimaPP` asset bundle class that you can then use to access the dataset.\n",
    "\n",
    "The `MuscimaPP` asset bundle provides the `muscima_pp.cropobjects_directory` field that returns a path to the directory containing the downloaded XML files of the MUSCIMA++ dataset.\n",
    "\n",
    "You can get the name of the first file in that directory like this:\n",
    "\n",
    "```python\n",
    "print(\"Example file from the MUSCIMA++ dataset:\")\n",
    "for file in muscima_pp.cropobjects_directory.iterdir():\n",
    "    print(file.name)\n",
    "    break\n",
    "```"
   ]
  },
  {
   "cell_type": "code",
   "execution_count": null,
   "metadata": {},
   "outputs": [],
   "source": [
    "import os\n",
    "os.environ[\"MC_ASSETS_CACHE\"] = \"../../mashcima_assets\"\n",
    "\n",
    "from mashcima2.assets.AssetRepository import AssetRepository\n",
    "from mashcima2.assets.datasets.MuscimaPP import MuscimaPP\n",
    "assets = AssetRepository.default()\n",
    "muscima_pp = assets.resolve_bundle(MuscimaPP)\n",
    "\n",
    "print(\"Example file from the MUSCIMA++ dataset:\")\n",
    "for file in muscima_pp.cropobjects_directory.iterdir():\n",
    "    print(file.name)\n",
    "    break"
   ]
  },
  {
   "cell_type": "markdown",
   "metadata": {},
   "source": [
    "## Controlling the cache directory\n",
    "\n",
    "By default, assets bundles are downloaded to the current users's cache directory.\n",
    "\n",
    "On Linux, this is the `~/.cache/mashcima2/assets` directory.\n",
    "\n",
    "You can override this placement by specifying the `MC_ASSETS_CACHE` environment variable.\n",
    "\n",
    "This can even be done from within python before any assets are used:\n",
    "\n",
    "```python\n",
    "import os\n",
    "os.environ[\"MC_ASSETS_CACHE\"] = \"./mashcima_assets\"\n",
    "```"
   ]
  },
  {
   "cell_type": "markdown",
   "metadata": {},
   "source": [
    "## Available asset bundles\n",
    "\n",
    "This is a list of asset bundles provided by Mashcima 2 out of the box:\n",
    "\n",
    "- `mashcima2.assets.datasets.MuscimaPP`\n",
    "- `mashcima2.assets.glyphs.MuscimaPPGlyphs` ([documentation](muscima_pp/glyphs.ipynb))"
   ]
  },
  {
   "cell_type": "markdown",
   "metadata": {},
   "source": [
    "## Building custom asset bundle\n",
    "\n",
    "TODO: document this in a separate file\n",
    "\n",
    "Cover:\n",
    "- implementing the `install` method\n",
    "- exposing public fields to users\n",
    "- testing installation with `.resolve_bundle(MyBundle, force_install=True)`\n",
    "- resolving dependencies in `__post_init__`"
   ]
  }
 ],
 "metadata": {
  "kernelspec": {
   "display_name": ".venv",
   "language": "python",
   "name": "python3"
  },
  "language_info": {
   "codemirror_mode": {
    "name": "ipython",
    "version": 3
   },
   "file_extension": ".py",
   "mimetype": "text/x-python",
   "name": "python",
   "nbconvert_exporter": "python",
   "pygments_lexer": "ipython3",
   "version": "3.10.12"
  }
 },
 "nbformat": 4,
 "nbformat_minor": 2
}
