{
 "cells": [
  {
   "cell_type": "code",
   "execution_count": null,
   "metadata": {},
   "outputs": [],
   "source": [
    "%load_ext autoreload\n",
    "# https://switowski.com/blog/ipython-autoreload/"
   ]
  },
  {
   "cell_type": "code",
   "execution_count": null,
   "metadata": {},
   "outputs": [],
   "source": [
    "%autoreload 2\n",
    "from mashcima2.orchestration.Mayer2021Model import Mayer2021Model\n",
    "from mashcima2.synthesis.page.StafflinesSynthesizer import StafflinesSynthesizer\n",
    "\n",
    "model = Mayer2021Model()\n",
    "\n",
    "a = model.container.resolve(StafflinesSynthesizer)\n",
    "b = model.container.resolve(StafflinesSynthesizer)\n",
    "\n",
    "print(a)\n",
    "print(b)\n",
    "print(a is b)"
   ]
  }
 ],
 "metadata": {
  "kernelspec": {
   "display_name": ".venv",
   "language": "python",
   "name": "python3"
  },
  "language_info": {
   "codemirror_mode": {
    "name": "ipython",
    "version": 3
   },
   "file_extension": ".py",
   "mimetype": "text/x-python",
   "name": "python",
   "nbconvert_exporter": "python",
   "pygments_lexer": "ipython3",
   "version": "3.10.12"
  }
 },
 "nbformat": 4,
 "nbformat_minor": 2
}
