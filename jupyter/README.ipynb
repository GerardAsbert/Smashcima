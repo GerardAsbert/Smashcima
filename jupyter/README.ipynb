{
 "cells": [
  {
   "cell_type": "markdown",
   "metadata": {},
   "source": [
    "# Mashcima 2 - Jupyter Documentation\n",
    "\n",
    "Welcome to Mashcima 2 Jupyter documentation. This is a collection of Jupyter notebooks that together form the documentation for the Mashcima 2 system. It serves the following purposes:\n",
    "\n",
    "- Documents the structure of the Mashcima 2 framework.\n",
    "- Provides a set of demonstration notebooks for feature showcase.\n",
    "- Acts as semi-automated tests for visual-features of the system (e.g. glyph synthesizers)."
   ]
  },
  {
   "cell_type": "markdown",
   "metadata": {},
   "source": [
    "## Demos\n",
    "\n",
    "You can browse the demonstration notebooks [here](demos/README.ipynb)."
   ]
  },
  {
   "cell_type": "markdown",
   "metadata": {},
   "source": [
    "## Documentation\n",
    "\n",
    "The documentation index:\n",
    "\n",
    "- Introduction\n",
    "- Scene\n",
    "- [Assets](assets/README.ipynb)"
   ]
  }
 ],
 "metadata": {
  "language_info": {
   "name": "python"
  }
 },
 "nbformat": 4,
 "nbformat_minor": 2
}
